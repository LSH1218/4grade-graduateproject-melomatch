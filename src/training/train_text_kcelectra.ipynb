{
  "cells": [
    {
      "cell_type": "markdown",
      "metadata": {
        "id": "JvG--Wq-4LMl"
      },
      "source": [
        "## 데이터 준비"
      ]
    },
    {
      "cell_type": "code",
      "execution_count": null,
      "metadata": {
        "colab": {
          "base_uri": "https://localhost:8080/"
        },
        "id": "A_2bP6wE4Gk_",
        "outputId": "8073f98c-984e-4829-b745-0a08172d1597"
      },
      "outputs": [
        {
          "output_type": "stream",
          "name": "stdout",
          "text": [
            "Requirement already satisfied: torch in /usr/local/lib/python3.10/dist-packages (2.5.0+cu121)\n",
            "Requirement already satisfied: filelock in /usr/local/lib/python3.10/dist-packages (from torch) (3.16.1)\n",
            "Requirement already satisfied: typing-extensions>=4.8.0 in /usr/local/lib/python3.10/dist-packages (from torch) (4.12.2)\n",
            "Requirement already satisfied: networkx in /usr/local/lib/python3.10/dist-packages (from torch) (3.4.2)\n",
            "Requirement already satisfied: jinja2 in /usr/local/lib/python3.10/dist-packages (from torch) (3.1.4)\n",
            "Requirement already satisfied: fsspec in /usr/local/lib/python3.10/dist-packages (from torch) (2024.10.0)\n",
            "Requirement already satisfied: sympy==1.13.1 in /usr/local/lib/python3.10/dist-packages (from torch) (1.13.1)\n",
            "Requirement already satisfied: mpmath<1.4,>=1.1.0 in /usr/local/lib/python3.10/dist-packages (from sympy==1.13.1->torch) (1.3.0)\n",
            "Requirement already satisfied: MarkupSafe>=2.0 in /usr/local/lib/python3.10/dist-packages (from jinja2->torch) (3.0.2)\n",
            "Requirement already satisfied: transformers in /usr/local/lib/python3.10/dist-packages (4.46.2)\n",
            "Requirement already satisfied: filelock in /usr/local/lib/python3.10/dist-packages (from transformers) (3.16.1)\n",
            "Requirement already satisfied: huggingface-hub<1.0,>=0.23.2 in /usr/local/lib/python3.10/dist-packages (from transformers) (0.26.2)\n",
            "Requirement already satisfied: numpy>=1.17 in /usr/local/lib/python3.10/dist-packages (from transformers) (1.26.4)\n",
            "Requirement already satisfied: packaging>=20.0 in /usr/local/lib/python3.10/dist-packages (from transformers) (24.2)\n",
            "Requirement already satisfied: pyyaml>=5.1 in /usr/local/lib/python3.10/dist-packages (from transformers) (6.0.2)\n",
            "Requirement already satisfied: regex!=2019.12.17 in /usr/local/lib/python3.10/dist-packages (from transformers) (2024.9.11)\n",
            "Requirement already satisfied: requests in /usr/local/lib/python3.10/dist-packages (from transformers) (2.32.3)\n",
            "Requirement already satisfied: safetensors>=0.4.1 in /usr/local/lib/python3.10/dist-packages (from transformers) (0.4.5)\n",
            "Requirement already satisfied: tokenizers<0.21,>=0.20 in /usr/local/lib/python3.10/dist-packages (from transformers) (0.20.3)\n",
            "Requirement already satisfied: tqdm>=4.27 in /usr/local/lib/python3.10/dist-packages (from transformers) (4.66.6)\n",
            "Requirement already satisfied: fsspec>=2023.5.0 in /usr/local/lib/python3.10/dist-packages (from huggingface-hub<1.0,>=0.23.2->transformers) (2024.10.0)\n",
            "Requirement already satisfied: typing-extensions>=3.7.4.3 in /usr/local/lib/python3.10/dist-packages (from huggingface-hub<1.0,>=0.23.2->transformers) (4.12.2)\n",
            "Requirement already satisfied: charset-normalizer<4,>=2 in /usr/local/lib/python3.10/dist-packages (from requests->transformers) (3.4.0)\n",
            "Requirement already satisfied: idna<4,>=2.5 in /usr/local/lib/python3.10/dist-packages (from requests->transformers) (3.10)\n",
            "Requirement already satisfied: urllib3<3,>=1.21.1 in /usr/local/lib/python3.10/dist-packages (from requests->transformers) (2.2.3)\n",
            "Requirement already satisfied: certifi>=2017.4.17 in /usr/local/lib/python3.10/dist-packages (from requests->transformers) (2024.8.30)\n",
            "Requirement already satisfied: sentencepiece in /usr/local/lib/python3.10/dist-packages (0.2.0)\n",
            "Requirement already satisfied: dataset in /usr/local/lib/python3.10/dist-packages (1.6.2)\n",
            "Requirement already satisfied: sqlalchemy<2.0.0,>=1.3.2 in /usr/local/lib/python3.10/dist-packages (from dataset) (1.4.54)\n",
            "Requirement already satisfied: alembic>=0.6.2 in /usr/local/lib/python3.10/dist-packages (from dataset) (1.14.0)\n",
            "Requirement already satisfied: banal>=1.0.1 in /usr/local/lib/python3.10/dist-packages (from dataset) (1.0.6)\n",
            "Requirement already satisfied: Mako in /usr/local/lib/python3.10/dist-packages (from alembic>=0.6.2->dataset) (1.3.6)\n",
            "Requirement already satisfied: typing-extensions>=4 in /usr/local/lib/python3.10/dist-packages (from alembic>=0.6.2->dataset) (4.12.2)\n",
            "Requirement already satisfied: greenlet!=0.4.17 in /usr/local/lib/python3.10/dist-packages (from sqlalchemy<2.0.0,>=1.3.2->dataset) (3.1.1)\n",
            "Requirement already satisfied: MarkupSafe>=0.9.2 in /usr/local/lib/python3.10/dist-packages (from Mako->alembic>=0.6.2->dataset) (3.0.2)\n",
            "Requirement already satisfied: nlpaug in /usr/local/lib/python3.10/dist-packages (1.1.11)\n",
            "Requirement already satisfied: numpy>=1.16.2 in /usr/local/lib/python3.10/dist-packages (from nlpaug) (1.26.4)\n",
            "Requirement already satisfied: pandas>=1.2.0 in /usr/local/lib/python3.10/dist-packages (from nlpaug) (2.2.2)\n",
            "Requirement already satisfied: requests>=2.22.0 in /usr/local/lib/python3.10/dist-packages (from nlpaug) (2.32.3)\n",
            "Requirement already satisfied: gdown>=4.0.0 in /usr/local/lib/python3.10/dist-packages (from nlpaug) (5.2.0)\n",
            "Requirement already satisfied: beautifulsoup4 in /usr/local/lib/python3.10/dist-packages (from gdown>=4.0.0->nlpaug) (4.12.3)\n",
            "Requirement already satisfied: filelock in /usr/local/lib/python3.10/dist-packages (from gdown>=4.0.0->nlpaug) (3.16.1)\n",
            "Requirement already satisfied: tqdm in /usr/local/lib/python3.10/dist-packages (from gdown>=4.0.0->nlpaug) (4.66.6)\n",
            "Requirement already satisfied: python-dateutil>=2.8.2 in /usr/local/lib/python3.10/dist-packages (from pandas>=1.2.0->nlpaug) (2.8.2)\n",
            "Requirement already satisfied: pytz>=2020.1 in /usr/local/lib/python3.10/dist-packages (from pandas>=1.2.0->nlpaug) (2024.2)\n",
            "Requirement already satisfied: tzdata>=2022.7 in /usr/local/lib/python3.10/dist-packages (from pandas>=1.2.0->nlpaug) (2024.2)\n",
            "Requirement already satisfied: charset-normalizer<4,>=2 in /usr/local/lib/python3.10/dist-packages (from requests>=2.22.0->nlpaug) (3.4.0)\n",
            "Requirement already satisfied: idna<4,>=2.5 in /usr/local/lib/python3.10/dist-packages (from requests>=2.22.0->nlpaug) (3.10)\n",
            "Requirement already satisfied: urllib3<3,>=1.21.1 in /usr/local/lib/python3.10/dist-packages (from requests>=2.22.0->nlpaug) (2.2.3)\n",
            "Requirement already satisfied: certifi>=2017.4.17 in /usr/local/lib/python3.10/dist-packages (from requests>=2.22.0->nlpaug) (2024.8.30)\n",
            "Requirement already satisfied: six>=1.5 in /usr/local/lib/python3.10/dist-packages (from python-dateutil>=2.8.2->pandas>=1.2.0->nlpaug) (1.16.0)\n",
            "Requirement already satisfied: soupsieve>1.2 in /usr/local/lib/python3.10/dist-packages (from beautifulsoup4->gdown>=4.0.0->nlpaug) (2.6)\n",
            "Requirement already satisfied: PySocks!=1.5.7,>=1.5.6 in /usr/local/lib/python3.10/dist-packages (from requests[socks]->gdown>=4.0.0->nlpaug) (1.7.1)\n"
          ]
        }
      ],
      "source": [
        "!pip install torch\n",
        "!pip install transformers\n",
        "!pip install sentencepiece\n",
        "!pip install dataset\n",
        "!pip install nlpaug\n",
        "\n",
        "import torch\n",
        "import torch.nn as nn\n",
        "from torch.utils.data import DataLoader, Dataset\n",
        "import pandas as pd\n",
        "from transformers import AutoTokenizer, AutoModelForSequenceClassification, AdamW\n",
        "from sklearn.model_selection import train_test_split\n",
        "from tqdm import tqdm\n",
        "from torch.nn import CrossEntropyLoss\n",
        "import matplotlib.pyplot as plt\n",
        "\n",
        "# GPU 설정\n",
        "device = torch.device(\"cuda\" if torch.cuda.is_available() else \"cpu\")\n",
        "\n",
        "class KcELECTRAWithDropout(nn.Module):\n",
        "    def __init__(self):\n",
        "        super(KcELECTRAWithDropout, self).__init__()\n",
        "        self.electra = AutoModelForSequenceClassification.from_pretrained(\"beomi/KcELECTRA-base\", num_labels=7)\n",
        "        self.dropout = nn.Dropout(p=0.7)  # 드롭아웃 확률 증가\n",
        "        self.batch_norm = nn.BatchNorm1d(7)  # 감정 분류 클래스 수와 동일\n",
        "\n",
        "    def forward(self, input_ids, attention_mask=None, labels=None):\n",
        "        outputs = self.electra(input_ids=input_ids, attention_mask=attention_mask, labels=labels)\n",
        "        logits = self.dropout(outputs.logits)\n",
        "        logits = self.batch_norm(logits)  # Batch Normalization 적용\n",
        "        return outputs"
      ]
    },
    {
      "cell_type": "code",
      "execution_count": null,
      "metadata": {
        "colab": {
          "base_uri": "https://localhost:8080/"
        },
        "id": "cFRfn8MNphp-",
        "outputId": "f586b205-2559-4f17-ee2f-8b4f1f049c6c"
      },
      "outputs": [
        {
          "output_type": "stream",
          "name": "stderr",
          "text": [
            "<ipython-input-14-6eeec77c9021>:9: FutureWarning: The behavior of DataFrame.idxmax with all-NA values, or any-NA and skipna=False, is deprecated. In a future version this will raise ValueError\n",
            "  long_sen['emotion'] = long_sen[emotion_cols].idxmax(axis=1)\n"
          ]
        }
      ],
      "source": [
        "# 데이터 로드 및 전처리\n",
        "short_sen = pd.read_csv('/content/단발성_대화_정리.csv')\n",
        "long_sen = pd.read_csv('/content/연속적_대화_정리.csv')\n",
        "\n",
        "short_sen = short_sen[['Sentence', 'Emotion']]\n",
        "short_sen = short_sen.rename(columns={\"Sentence\": 'sentence', \"Emotion\": 'emotion'})\n",
        "\n",
        "emotion_cols = ['행복', '중립', '슬픔', '공포', '혐오', '분노', '놀람']\n",
        "long_sen['emotion'] = long_sen[emotion_cols].idxmax(axis=1)\n",
        "long_sen = long_sen.rename(columns={\"Unnamed: 1\": 'sentence'})\n",
        "\n",
        "kor_to_eng_emotion = {\n",
        "    \"분노\": \"angry\", \"행복\": \"happy\", \"슬픔\": \"sad\", \"중립\": \"neutral\",\n",
        "    \"놀람\": \"surprise\", \"공포\": \"fear\", \"혐오\": \"disgust\"\n",
        "}\n",
        "\n",
        "short_sen['emotion'] = short_sen['emotion'].map(kor_to_eng_emotion)\n",
        "long_sen['emotion'] = long_sen['emotion'].map(kor_to_eng_emotion)\n",
        "\n",
        "emotion_dict = {\"angry\": 0, \"happy\": 1, \"sad\": 2, \"neutral\": 3, \"surprise\": 4, \"fear\": 5, \"disgust\": 6}\n",
        "short_sen['emotion'] = short_sen['emotion'].map(emotion_dict)\n",
        "long_sen['emotion'] = long_sen['emotion'].map(emotion_dict)\n",
        "\n",
        "short_sen = short_sen.dropna(subset=['emotion'])\n",
        "long_sen = long_sen.dropna(subset=['emotion'])\n",
        "\n",
        "# 데이터셋 병합\n",
        "data = pd.concat([short_sen[['sentence', 'emotion']], long_sen[['sentence', 'emotion']]], axis=0)\n",
        "\n",
        "# 중립 데이터와 다른 감정 데이터 분리\n",
        "neutral_data = data[data['emotion'] == 3.0]\n",
        "other_data = data[data['emotion'] != 3.0]\n",
        "\n",
        "# 중립 데이터 언더샘플링\n",
        "if len(neutral_data) > len(other_data):\n",
        "    neutral_data_sample = neutral_data.sample(n=len(other_data), random_state=42)  # 중립 데이터 일부만 사용\n",
        "    balanced_data = pd.concat([other_data, neutral_data_sample])\n",
        "else:\n",
        "    balanced_data = data  # 중립 데이터가 적으면 그대로 사용\n",
        "\n",
        "# 학습/테스트 데이터 분할\n",
        "train_data, test_data = train_test_split(balanced_data, test_size=0.2, random_state=42)"
      ]
    },
    {
      "cell_type": "markdown",
      "metadata": {
        "id": "NUrAd-aU4Kh4"
      },
      "source": [
        "#데이터 클래스, 데이터 로더 준비"
      ]
    },
    {
      "cell_type": "code",
      "execution_count": null,
      "metadata": {
        "id": "XQ98A3Vk4H4o"
      },
      "outputs": [],
      "source": [
        "class EmotionDataset(Dataset):\n",
        "    def __init__(self, data, tokenizer, max_len):\n",
        "        self.data = data\n",
        "        self.tokenizer = tokenizer\n",
        "        self.max_len = max_len\n",
        "\n",
        "    def __len__(self):\n",
        "        return len(self.data)\n",
        "\n",
        "    def __getitem__(self, index):\n",
        "        sentence = self.data.iloc[index]['sentence']\n",
        "        emotion = self.data.iloc[index]['emotion']\n",
        "\n",
        "        encoding = self.tokenizer(\n",
        "            sentence,\n",
        "            add_special_tokens=True,\n",
        "            max_length=self.max_len,\n",
        "            return_token_type_ids=False,\n",
        "            padding='max_length',\n",
        "            truncation=True,\n",
        "            return_attention_mask=True,\n",
        "            return_tensors='pt',\n",
        "        )\n",
        "\n",
        "        return {\n",
        "            'sentence': sentence,\n",
        "            'input_ids': encoding['input_ids'].flatten(),\n",
        "            'attention_mask': encoding['attention_mask'].flatten(),\n",
        "            'labels': torch.tensor(emotion, dtype=torch.long)\n",
        "        }\n",
        "\n",
        "# 토크나이저 및 데이터 로더 준비\n",
        "tokenizer = AutoTokenizer.from_pretrained(\"beomi/KcELECTRA-base\")\n",
        "train_dataset = EmotionDataset(train_data, tokenizer, max_len=64)\n",
        "test_dataset = EmotionDataset(test_data, tokenizer, max_len=64)\n",
        "train_loader = DataLoader(train_dataset, batch_size=32, shuffle=True)\n",
        "test_loader = DataLoader(test_dataset, batch_size=32, shuffle=False)"
      ]
    },
    {
      "cell_type": "markdown",
      "metadata": {
        "id": "4WCpPaU84Uk_"
      },
      "source": [
        "#학습 함수 및 평가 함수 셀"
      ]
    },
    {
      "cell_type": "code",
      "execution_count": null,
      "metadata": {
        "colab": {
          "base_uri": "https://localhost:8080/"
        },
        "id": "ljfAKd3y4U2f",
        "outputId": "e76f17ef-4a42-409f-d9d5-0ddfc4b11bab"
      },
      "outputs": [
        {
          "output_type": "stream",
          "name": "stderr",
          "text": [
            "Some weights of ElectraForSequenceClassification were not initialized from the model checkpoint at beomi/KcELECTRA-base and are newly initialized: ['classifier.dense.bias', 'classifier.dense.weight', 'classifier.out_proj.bias', 'classifier.out_proj.weight']\n",
            "You should probably TRAIN this model on a down-stream task to be able to use it for predictions and inference.\n",
            "/usr/local/lib/python3.10/dist-packages/transformers/optimization.py:591: FutureWarning: This implementation of AdamW is deprecated and will be removed in a future version. Use the PyTorch implementation torch.optim.AdamW instead, or set `no_deprecation_warning=True` to disable this warning\n",
            "  warnings.warn(\n"
          ]
        }
      ],
      "source": [
        "model = KcELECTRAWithDropout().to(device)\n",
        "optimizer = AdamW(model.parameters(), lr=2e-5, weight_decay=0.1)  # weight decay 추가\n",
        "\n",
        "# 손실 함수에 가중치 추가\n",
        "class_weights = torch.tensor([1.5, 1.5, 1.5, 0.5, 1.5, 1.5, 1.5]).to(device)\n",
        "criterion = CrossEntropyLoss(weight=class_weights)"
      ]
    },
    {
      "cell_type": "markdown",
      "metadata": {
        "id": "uJIOzFgw4VH6"
      },
      "source": [
        "\n",
        "# 옵티마이저 설정\n",
        "optimizer = AdamW(model.parameters(), lr=2e-5)\n"
      ]
    },
    {
      "cell_type": "code",
      "execution_count": null,
      "metadata": {
        "colab": {
          "base_uri": "https://localhost:8080/"
        },
        "id": "EUnEyqgY4VaF",
        "outputId": "88bc525f-d56e-42b6-84af-1bfb45fb1af2"
      },
      "outputs": [
        {
          "output_type": "stream",
          "name": "stdout",
          "text": [
            "Epoch 1/10\n"
          ]
        },
        {
          "output_type": "stream",
          "name": "stderr",
          "text": [
            "100%|██████████| 965/965 [01:34<00:00, 10.25it/s]\n"
          ]
        },
        {
          "output_type": "stream",
          "name": "stdout",
          "text": [
            "Train loss: 1.2398339172719055, accuracy: 0.48374141728203135\n",
            "Test loss: 1.0477300796134412, accuracy: 0.5524031610312217\n",
            "Epoch 2/10\n"
          ]
        },
        {
          "output_type": "stream",
          "name": "stderr",
          "text": [
            "100%|██████████| 965/965 [01:34<00:00, 10.27it/s]\n"
          ]
        },
        {
          "output_type": "stream",
          "name": "stdout",
          "text": [
            "Train loss: 0.9397618086226863, accuracy: 0.59952714082135\n",
            "Test loss: 1.0428097186502345, accuracy: 0.5606943904650862\n",
            "Epoch 3/10\n"
          ]
        },
        {
          "output_type": "stream",
          "name": "stderr",
          "text": [
            "100%|██████████| 965/965 [01:33<00:00, 10.28it/s]\n"
          ]
        },
        {
          "output_type": "stream",
          "name": "stdout",
          "text": [
            "Train loss: 0.76769185112548, accuracy: 0.6775165176836377\n",
            "Test loss: 1.1136469349634548, accuracy: 0.5777950511724317\n",
            "No improvement in test loss for 1 epoch(s).\n",
            "Epoch 4/10\n"
          ]
        },
        {
          "output_type": "stream",
          "name": "stderr",
          "text": [
            "100%|██████████| 965/965 [01:34<00:00, 10.27it/s]\n"
          ]
        },
        {
          "output_type": "stream",
          "name": "stdout",
          "text": [
            "Train loss: 0.6038072820617745, accuracy: 0.7423241352506801\n",
            "Test loss: 1.2531244725235238, accuracy: 0.5701515740380878\n",
            "No improvement in test loss for 2 epoch(s).\n",
            "Epoch 5/10\n"
          ]
        },
        {
          "output_type": "stream",
          "name": "stderr",
          "text": [
            "100%|██████████| 965/965 [01:34<00:00, 10.26it/s]\n"
          ]
        },
        {
          "output_type": "stream",
          "name": "stdout",
          "text": [
            "Train loss: 0.4668520970588521, accuracy: 0.8029213628708382\n",
            "Test loss: 1.3605122524352113, accuracy: 0.5675605648400052\n",
            "No improvement in test loss for 3 epoch(s).\n",
            "Early stopping at epoch 5\n"
          ]
        }
      ],
      "source": [
        "def train_epoch(model, data_loader, optimizer, criterion, device):\n",
        "    model.train()\n",
        "    total_loss = 0\n",
        "    correct_predictions = 0\n",
        "\n",
        "    for data in tqdm(data_loader):\n",
        "        input_ids = data['input_ids'].to(device)\n",
        "        attention_mask = data['attention_mask'].to(device)\n",
        "        labels = data['labels'].to(device)\n",
        "\n",
        "        outputs = model(input_ids=input_ids, attention_mask=attention_mask, labels=labels)\n",
        "        loss = criterion(outputs.logits, labels)\n",
        "        logits = outputs.logits\n",
        "\n",
        "        _, preds = torch.max(logits, dim=1)\n",
        "        correct_predictions += torch.sum(preds == labels)\n",
        "        total_loss += loss.item()\n",
        "\n",
        "        loss.backward()\n",
        "        optimizer.step()\n",
        "        optimizer.zero_grad()\n",
        "\n",
        "    return correct_predictions.double() / len(data_loader.dataset), total_loss / len(data_loader)\n",
        "\n",
        "def eval_model(model, data_loader, criterion, device):\n",
        "    model.eval()\n",
        "    correct_predictions = 0\n",
        "    total_loss = 0\n",
        "\n",
        "    with torch.no_grad():\n",
        "        for data in data_loader:\n",
        "            input_ids = data['input_ids'].to(device)\n",
        "            attention_mask = data['attention_mask'].to(device)\n",
        "            labels = data['labels'].to(device)\n",
        "\n",
        "            outputs = model(input_ids=input_ids, attention_mask=attention_mask, labels=labels)\n",
        "            loss = criterion(outputs.logits, labels)\n",
        "            logits = outputs.logits\n",
        "\n",
        "            _, preds = torch.max(logits, dim=1)\n",
        "            correct_predictions += torch.sum(preds == labels)\n",
        "            total_loss += loss.item()\n",
        "\n",
        "    return correct_predictions.double() / len(data_loader.dataset), total_loss / len(data_loader)\n",
        "\n",
        "# Early Stopping 설정\n",
        "early_stop_threshold = 3  # 개선되지 않는 에포크 수 기준\n",
        "no_improvement_count = 0\n",
        "best_test_loss = float('inf')  # 가장 낮은 검증 손실 초기화\n",
        "\n",
        "train_losses = []\n",
        "test_losses = []\n",
        "train_accuracies = []\n",
        "test_accuracies = []\n",
        "\n",
        "num_epochs = 10\n",
        "for epoch in range(num_epochs):\n",
        "    print(f\"Epoch {epoch + 1}/{num_epochs}\")\n",
        "\n",
        "    # 학습\n",
        "    train_acc, train_loss = train_epoch(model, train_loader, optimizer, criterion, device)\n",
        "    train_losses.append(train_loss)\n",
        "    train_accuracies.append(train_acc)\n",
        "    print(f\"Train loss: {train_loss}, accuracy: {train_acc}\")\n",
        "\n",
        "    # 평가\n",
        "    test_acc, test_loss = eval_model(model, test_loader, criterion, device)\n",
        "    test_losses.append(test_loss)\n",
        "    test_accuracies.append(test_acc)\n",
        "    print(f\"Test loss: {test_loss}, accuracy: {test_acc}\")\n",
        "\n",
        "    # Early Stopping 체크\n",
        "    if test_loss < best_test_loss:\n",
        "        best_test_loss = test_loss  # 새로운 최저 손실 갱신\n",
        "        no_improvement_count = 0  # 개선되었으므로 카운트 리셋\n",
        "    else:\n",
        "        no_improvement_count += 1\n",
        "        print(f\"No improvement in test loss for {no_improvement_count} epoch(s).\")\n",
        "\n",
        "    # 개선되지 않는 에포크 수가 임계값을 넘으면 학습 중단\n",
        "    if no_improvement_count >= early_stop_threshold:\n",
        "        print(f\"Early stopping at epoch {epoch + 1}\")\n",
        "        break"
      ]
    },
    {
      "cell_type": "markdown",
      "metadata": {
        "id": "izNmrFVx4b-M"
      },
      "source": [
        "#학습 결과 시각화 셀"
      ]
    },
    {
      "cell_type": "code",
      "execution_count": null,
      "metadata": {
        "colab": {
          "base_uri": "https://localhost:8080/",
          "height": 393
        },
        "id": "I7_NPNHU4c5A",
        "outputId": "59efd8d6-451d-4466-f1c8-74616d89175f"
      },
      "outputs": [
        {
          "output_type": "display_data",
          "data": {
            "text/plain": [
              "<Figure size 1200x500 with 2 Axes>"
            ],
            "image/png": "[encoded data removed]"
          },
          "metadata": {}
        }
      ],
      "source": [
        "import matplotlib.pyplot as plt\n",
        "\n",
        "# 학습 과정 시각화\n",
        "epochs_range = range(1, len(train_losses) + 1)\n",
        "\n",
        "plt.figure(figsize=(12, 5))\n",
        "\n",
        "# Loss 그래프\n",
        "plt.subplot(1, 2, 1)\n",
        "plt.plot(epochs_range, train_losses, label='Train Loss')  # float형 값 사용\n",
        "plt.plot(epochs_range, test_losses, label='Test Loss')    # float형 값 사용\n",
        "plt.xlabel('Epochs')\n",
        "plt.ylabel('Loss')\n",
        "plt.title('Train & Test Loss')\n",
        "plt.legend()\n",
        "\n",
        "# Accuracy 그래프\n",
        "plt.subplot(1, 2, 2)\n",
        "plt.plot(epochs_range, [acc.cpu().numpy() if isinstance(acc, torch.Tensor) else acc for acc in train_accuracies], label='Train Accuracy')  # 텐서를 CPU로 옮겨서 numpy() 호출\n",
        "plt.plot(epochs_range, [acc.cpu().numpy() if isinstance(acc, torch.Tensor) else acc for acc in test_accuracies], label='Test Accuracy')    # 텐서를 CPU로 옮겨서 numpy() 호출\n",
        "plt.xlabel('Epochs')\n",
        "plt.ylabel('Accuracy')\n",
        "plt.title('Train & Test Accuracy')\n",
        "plt.legend()\n",
        "\n",
        "plt.show()"
      ]
    },
    {
      "cell_type": "markdown",
      "metadata": {
        "id": "yv1ERSv64eeB"
      },
      "source": [
        "#실시간 감정 예측 셀"
      ]
    },
    {
      "cell_type": "code",
      "execution_count": null,
      "metadata": {
        "colab": {
          "base_uri": "https://localhost:8080/"
        },
        "id": "XO_Z7XcQ4fdT",
        "outputId": "95e9565b-1b86-464f-c675-05b6832ee144"
      },
      "outputs": [
        {
          "output_type": "stream",
          "name": "stdout",
          "text": [
            "하고 싶은 말을 입력해주세요 (종료하려면 'QUIT' 입력): 오늘 재미있었어\n",
            ">> 입력하신 내용의 감정은 'happy'입니다.\n",
            "\n",
            "\n",
            "하고 싶은 말을 입력해주세요 (종료하려면 'QUIT' 입력): 행복해\n",
            ">> 입력하신 내용의 감정은 'happy'입니다.\n",
            "\n",
            "\n",
            "하고 싶은 말을 입력해주세요 (종료하려면 'QUIT' 입력): 비꼬지마\n",
            ">> 입력하신 내용의 감정은 'disgust'입니다.\n",
            "\n",
            "\n",
            "하고 싶은 말을 입력해주세요 (종료하려면 'QUIT' 입력): 아 진짜 너무 실허어\n",
            ">> 입력하신 내용의 감정은 'sad'입니다.\n",
            "\n",
            "\n",
            "하고 싶은 말을 입력해주세요 (종료하려면 'QUIT' 입력): 아 진짜 너무 싫어\n",
            ">> 입력하신 내용의 감정은 'disgust'입니다.\n",
            "\n",
            "\n",
            "하고 싶은 말을 입력해주세요 (종료하려면 'QUIT' 입력): 오늘 부장이 퇴근 30분전에 갑자기 일 던져주는거 있지?\n",
            ">> 입력하신 내용의 감정은 'surprise'입니다.\n",
            "\n",
            "\n",
            "하고 싶은 말을 입력해주세요 (종료하려면 'QUIT' 입력): 완전 극혐이야\n",
            ">> 입력하신 내용의 감정은 'disgust'입니다.\n",
            "\n",
            "\n",
            "하고 싶은 말을 입력해주세요 (종료하려면 'QUIT' 입력): 그래서 울었어\n",
            ">> 입력하신 내용의 감정은 'sad'입니다.\n",
            "\n",
            "\n",
            "하고 싶은 말을 입력해주세요 (종료하려면 'QUIT' 입력): 그 부장 뒤에서는 사람들 엄청 험담하고 최악이야\n",
            ">> 입력하신 내용의 감정은 'disgust'입니다.\n",
            "\n",
            "\n",
            "하고 싶은 말을 입력해주세요 (종료하려면 'QUIT' 입력): 술 마시고 나서는 완전 인사불성되서\n",
            ">> 입력하신 내용의 감정은 'sad'입니다.\n",
            "\n",
            "\n",
            "하고 싶은 말을 입력해주세요 (종료하려면 'QUIT' 입력): 너무 무섭다\n",
            ">> 입력하신 내용의 감정은 'fear'입니다.\n",
            "\n",
            "\n",
            "하고 싶은 말을 입력해주세요 (종료하려면 'QUIT' 입력): 너 이새끼\n",
            ">> 입력하신 내용의 감정은 'angry'입니다.\n",
            "\n",
            "\n",
            "하고 싶은 말을 입력해주세요 (종료하려면 'QUIT' 입력): 쟤는 뭐하니?\n",
            ">> 입력하신 내용의 감정은 'surprise'입니다.\n",
            "\n",
            "\n",
            "하고 싶은 말을 입력해주세요 (종료하려면 'QUIT' 입력): 와 진짜 대박이다\n",
            ">> 입력하신 내용의 감정은 'surprise'입니다.\n",
            "\n",
            "\n",
            "하고 싶은 말을 입력해주세요 (종료하려면 'QUIT' 입력): quit\n",
            "감정 분석을 종료합니다.\n"
          ]
        }
      ],
      "source": [
        "emotion_dict_reverse = {0: \"angry\", 1: \"happy\", 2: \"sad\", 3: \"neutral\", 4: \"surprise\", 5: \"fear\", 6: \"disgust\"}\n",
        "\n",
        "def predict(predict_sentence):\n",
        "    encoding = tokenizer(\n",
        "        predict_sentence,\n",
        "        return_tensors=\"pt\",\n",
        "        truncation=True,\n",
        "        padding=True,\n",
        "        max_length=128,\n",
        "        add_special_tokens=True\n",
        "    ).to(device)\n",
        "\n",
        "    with torch.no_grad():\n",
        "        outputs = model(input_ids=encoding['input_ids'], attention_mask=encoding['attention_mask'])\n",
        "        logits = outputs.logits\n",
        "        predicted_class = torch.argmax(logits, dim=-1).item()\n",
        "\n",
        "    emotion = emotion_dict_reverse[predicted_class]\n",
        "    print(f\">> 입력하신 내용의 감정은 '{emotion}'입니다.\")\n",
        "\n",
        "# 실시간 감정 예측 실행\n",
        "while True:\n",
        "    sentence = input(\"하고 싶은 말을 입력해주세요 (종료하려면 'QUIT' 입력): \")\n",
        "    if sentence.upper() == \"QUIT\":\n",
        "        print(\"감정 분석을 종료합니다.\")\n",
        "        break\n",
        "    predict(sentence)\n",
        "    print(\"\\n\")"
      ]
    },
    {
      "cell_type": "code",
      "execution_count": null,
      "metadata": {
        "colab": {
          "base_uri": "https://localhost:8080/",
          "height": 644
        },
        "id": "ruU04DxgHHHk",
        "outputId": "10d1e685-1f5d-4d87-aa95-ff8d858d6ea3"
      },
      "outputs": [
        {
          "output_type": "stream",
          "name": "stdout",
          "text": [
            "emotion\n",
            "1.0    6037\n",
            "4.0    5898\n",
            "0.0    5665\n",
            "5.0    5468\n",
            "6.0    5429\n",
            "2.0    5267\n",
            "3.0    4831\n",
            "Name: count, dtype: int64\n"
          ]
        },
        {
          "output_type": "display_data",
          "data": {
            "text/plain": [
              "<Figure size 640x480 with 1 Axes>"
            ],
            "image/png": "[encoded data removed]"
          },
          "metadata": {}
        }
      ],
      "source": [
        "# 각 감정별 데이터 개수 확인\n",
        "emotion_counts = data['emotion'].value_counts()\n",
        "\n",
        "# 감정별 데이터 개수 출력\n",
        "print(emotion_counts)\n",
        "\n",
        "# 감정 비율 시각화\n",
        "import matplotlib.pyplot as plt\n",
        "\n",
        "emotion_counts.plot(kind='bar', color='skyblue')\n",
        "plt.title(\"Emotion Distribution in Dataset\")\n",
        "plt.xlabel(\"Emotion\")\n",
        "plt.ylabel(\"Count\")\n",
        "plt.show()"
      ]
    },
    {
      "cell_type": "code",
      "execution_count": null,
      "metadata": {
        "colab": {
          "base_uri": "https://localhost:8080/"
        },
        "id": "FgyuPZyktnvy",
        "outputId": "062ce80f-443d-48b3-afda-ec94b61c3b31"
      },
      "outputs": [
        {
          "output_type": "stream",
          "name": "stdout",
          "text": [
            "단발성 대화 데이터: (38594, 2)\n",
            "연속적 대화 데이터: (1, 14)\n",
            "병합된 데이터: (38595, 2)\n",
            "emotion\n",
            "1.0    4865\n",
            "4.0    4721\n",
            "0.0    4515\n",
            "5.0    4372\n",
            "6.0    4299\n",
            "2.0    4247\n",
            "3.0    3857\n",
            "Name: count, dtype: int64\n",
            "emotion\n",
            "4.0    1177\n",
            "1.0    1172\n",
            "0.0    1150\n",
            "6.0    1130\n",
            "5.0    1096\n",
            "2.0    1020\n",
            "3.0     974\n",
            "Name: count, dtype: int64\n"
          ]
        }
      ],
      "source": [
        "print(f\"단발성 대화 데이터: {short_sen.shape}\")\n",
        "print(f\"연속적 대화 데이터: {long_sen.shape}\")\n",
        "print(f\"병합된 데이터: {data.shape}\")\n",
        "\n",
        "print(train_data['emotion'].value_counts())\n",
        "print(test_data['emotion'].value_counts())"
      ]
    },
    {
      "cell_type": "markdown",
      "metadata": {
        "id": "l9OGQQYiAINV"
      },
      "source": [
        "##학습 후 모델 저장"
      ]
    },
    {
      "cell_type": "code",
      "execution_count": null,
      "metadata": {
        "colab": {
          "base_uri": "https://localhost:8080/"
        },
        "id": "6Y9c4plQAHp0",
        "outputId": "c6317795-a006-4481-988d-1c70b60655ce"
      },
      "outputs": [
        {
          "output_type": "stream",
          "name": "stdout",
          "text": [
            "Model has been saved to /content/drive/MyDrive/TextModel/Text_model.pth\n"
          ]
        }
      ],
      "source": [
        "import os\n",
        "import torch\n",
        "\n",
        "# Google Drive에 저장할 디렉토리 경로와 파일 이름 설정\n",
        "model_dir = \"/content/drive/MyDrive/TextModel\"\n",
        "model_save_path = os.path.join(model_dir, \"Text_model.pth\")\n",
        "\n",
        "# 디렉토리가 없다면 생성\n",
        "if not os.path.exists(model_dir):\n",
        "    os.makedirs(model_dir)\n",
        "\n",
        "# 모델 가중치 저장\n",
        "torch.save(model.state_dict(), model_save_path)\n",
        "\n",
        "print(f\"Model has been saved to {model_save_path}\")"
      ]
    }
  ],
  "metadata": {
    "accelerator": "GPU",
    "colab": {
      "gpuType": "A100",
      "machine_shape": "hm",
      "provenance": []
    },
    "kernelspec": {
      "display_name": "Python 3",
      "name": "python3"
    },
    "language_info": {
      "name": "python"
    }
  },
  "nbformat": 4,
  "nbformat_minor": 0
}